{
 "cells": [
  {
   "cell_type": "code",
   "metadata": {
    "ExecuteTime": {
     "end_time": "2025-03-19T13:37:20.230101Z",
     "start_time": "2025-03-19T13:37:20.215393Z"
    }
   },
   "source": [
    "import json\n",
    "\n",
    "def process_tweet_file(filename):\n",
    "    processed_tweets = []\n",
    "    \n",
    "    with open(filename, 'r') as f:\n",
    "        for i, line in enumerate(f, 1):\n",
    "            tweet = json.loads(line)\n",
    "            # Concatenate all tokens in the text array with spaces\n",
    "            full_text = f\"{i}. \" + ' '.join(tweet['text'])\n",
    "            processed_tweets.append(full_text)\n",
    "    \n",
    "    return processed_tweets\n",
    "\n",
    "# Template text\n",
    "template = \"\"\"<Task>\n",
    "Analyze the provided tweets to determine their likely impact on the future stock price of a given company. Your answer must be one of the following: \"[Positive]\", \"[Neutral]\", or \"[Negative]\".\n",
    "\n",
    "<Solving Process>\n",
    "1. Identify the Target Stock: Extract the stock symbol from the tweets.\n",
    "2. Tweet-by-Tweet Analysis:\n",
    "(a) Separate the Factors: For each relevant tweet, identify Positive and Negative factors.\n",
    "(b) Assess Sentiment: Evaluate how each relevant tweet might influence investor sentiment.\n",
    "3. Overall Sentiment Summary: Combine your analyses to conclude the overall sentiment.\n",
    "\n",
    "<Tweets>\n",
    "{}\n",
    "\n",
    "<Output Requirement>\n",
    "You must do this: Conclude with a single line that states the overall sentiment. Use one of the following tags exactly:\n",
    "[Positive]\n",
    "[Neutral]\n",
    "[Negative]\n",
    "\"\"\"\n",
    "\n",
    "# Process the file\n",
    "filename = 'tweet/preprocessed/AAPL/2014-01-02'\n",
    "tweets = process_tweet_file(filename)\n",
    "\n",
    "# Format tweets and print with template\n",
    "formatted_tweets = '\\n'.join(tweets)\n",
    "print(template.format(formatted_tweets)) "
   ],
   "outputs": [
    {
     "name": "stdout",
     "output_type": "stream",
     "text": [
      "<Task>\n",
      "Analyze the provided tweets to determine their likely impact on the future stock price of a given company. Your answer must be one of the following: \"[Positive]\", \"[Neutral]\", or \"[Negative]\".\n",
      "\n",
      "<Solving Process>\n",
      "1. Identify the Target Stock: Extract the stock symbol from the tweets.\n",
      "2. Tweet-by-Tweet Analysis:\n",
      "(a) Separate the Factors: For each relevant tweet, identify Positive and Negative factors.\n",
      "(b) Assess Sentiment: Evaluate how each relevant tweet might influence investor sentiment.\n",
      "3. Overall Sentiment Summary: Combine your analyses to conclude the overall sentiment.\n",
      "\n",
      "<Tweets>\n",
      "1. $ aapl - wall st . kicks off new year on lower note -> URL stock stocks stockaction\n",
      "2. rt AT_USER here's how apple could be making a huge push into healthcare --> URL $ aapl\n",
      "3. rt AT_USER our top 3 trade ideas for 2014 and two $ 1,000 futures wins already in the bank $ gld $ uso $ aapl - - URL\n",
      "4. AT_USER $ aapl having breathing difficulties\n",
      "5. emylers : cheeky's board ! : $ aapl up to date company activities and other impo URL\n",
      "6. $ aapl blackberry and singer alicia keys to part ways URL\n",
      "7. $ aapl - chinas xiaomi says to more than double smartphone sales in 2014 -> URL stock stocks stockaction\n",
      "8. rt AT_USER our top 3 trade ideas for 2014 and two $ 1,000 futures wins already in the bank $ gld $ uso $ aapl - - URL\n",
      "9. rt AT_USER our top 3 trade ideas for 2014 and two $ 1,000 futures wins already in the bank $ gld $ uso $ aapl - - URL\n",
      "10. what are your top picks for q1 2014 ? here are mine : $ aapl $ cree $ fb $ cldx $ sne\n",
      "11. rt AT_USER our top 3 trade ideas for 2014 and two $ 1,000 futures wins already in the bank $ gld $ uso $ aapl - - URL\n",
      "12. $ aapl us stocks-wall st kicks off new year on lower note URL\n",
      "13. rt AT_USER apple gained 8 % in 2013 vs s & p's 30 % but don't cry for $ aapl investors . at least not the long term ones . URL\n",
      "14. rt AT_USER our top 3 trade ideas for 2014 and two $ 1,000 futures wins already in the bank $ gld $ uso $ aapl - - URL\n",
      "15. rt AT_USER our top 3 trade ideas for 2014 and two $ 1,000 futures wins already in the bank $ gld $ uso $ aapl - - URL\n",
      "16. $ aapl - apple will be the main victim of microsoft and google cutthroat smartp ... -> URL stock stocks stockaction\n",
      "17. new education : supply / demand zones , accumulation / distribution , & price patterns URL $ spy $ qqq $ iwm $ aapl $ twtr $ study\n",
      "18. i bought a new tv this year . would probably have been a $ aapl tv if they made one , competition didn't seem to be very strong .\n",
      "19. $ aapl [ video ] apple denies working with nsa , and more URL\n",
      "20. $ aapl cleaning the mobile germ warehouse URL\n",
      "21. $ aapl kara swisher and walt mossberg launch re / code URL\n",
      "22. $ aapl let's not let the wf downgrade overshadow cantor's 2014 top large cap pick with a $ 777 price target .\n",
      "23. will 2014 be apple's \" year of innovation \" ( URL or year of gross-margin pressure ( URL $ aapl\n",
      "24. $ aapl - pre-market : apple downgraded on margin concerns ; stocks to start 2014 ... -> URL stock stocks stockaction\n",
      "25. big tuna's stocks - $ aapl daily chart ~ range is getting URL\n",
      "26. rt AT_USER our top 3 trade ideas for 2014 and two $ 1,000 futures wins already in the bank $ gld $ uso $ aapl - - URL\n",
      "27. $ aapl the zacks analyst blog highlights : apple , nokia , URL microsoft and solarwinds URL\n",
      "28. rt AT_USER apple slips , urban outfitters up on analyst call URL $ aapl\n",
      "29. rt AT_USER our top 3 trade ideas for 2014 and two $ 1,000 futures wins already in the bank $ gld $ uso $ aapl - - URL\n",
      "30. rt AT_USER our top 3 trade ideas for 2014 and two $ 1,000 futures wins already in the bank $ gld $ uso $ aapl - - URL\n",
      "31. $ aapl how is tim cook doing taking over from the legendary steve jobs ? URL\n",
      "32. this weeks $ aapl 550 puts are already up a dollar today .\n",
      "33. thursday headlines include news on $ cpb , $ nyt , $ aapl , $ wmt and $ nflx URL\n",
      "\n",
      "<Output Requirement>\n",
      "You must do this: Conclude with a single line that states the overall sentiment. Use one of the following tags exactly:\n",
      "[Positive]\n",
      "[Neutral]\n",
      "[Negative]\n",
      "\n"
     ]
    }
   ],
   "execution_count": 1
  },
  {
   "cell_type": "code",
   "metadata": {
    "ExecuteTime": {
     "end_time": "2025-03-19T13:38:36.530944Z",
     "start_time": "2025-03-19T13:38:36.101628Z"
    }
   },
   "source": [
    "import ollama\n",
    "\n",
    "ollama.list()"
   ],
   "outputs": [
    {
     "data": {
      "text/plain": [
       "ListResponse(models=[Model(model='deepseek-r1:1.5b', modified_at=datetime.datetime(2025, 3, 19, 9, 28, 46, 170881, tzinfo=TzInfo(-04:00)), digest='a42b25d8c10a841bd24724309898ae851466696a7d7f3a0a408b895538ccbc96', size=1117322599, details=ModelDetails(parent_model='', format='gguf', family='qwen2', families=['qwen2'], parameter_size='1.8B', quantization_level='Q4_K_M')), Model(model='gemma2:latest', modified_at=datetime.datetime(2024, 11, 21, 15, 8, 38, 852496, tzinfo=TzInfo(-05:00)), digest='ff02c3702f322b9e075e9568332d96c0a7028002f1a5a056e0a6784320a4db0b', size=5443152417, details=ModelDetails(parent_model='', format='gguf', family='gemma2', families=['gemma2'], parameter_size='9.2B', quantization_level='Q4_0'))])"
      ]
     },
     "execution_count": 3,
     "metadata": {},
     "output_type": "execute_result"
    }
   ],
   "execution_count": 3
  },
  {
   "cell_type": "code",
   "metadata": {
    "ExecuteTime": {
     "end_time": "2025-03-19T13:38:58.900340Z",
     "start_time": "2025-03-19T13:38:43.399018Z"
    }
   },
   "source": [
    "from ollama import chat\n",
    "from ollama import ChatResponse\n",
    "\n",
    "def get_ai_analysis(formatted_prompt):\n",
    "    \"\"\"\n",
    "    Analyze tweets using ollama's deepseek-r1 model\n",
    "    \"\"\"\n",
    "    try:\n",
    "        # print(ollama.list())\n",
    "\n",
    "        response: ChatResponse = chat(\n",
    "            model='deepseek-r1:1.5b',\n",
    "            messages=[{\n",
    "                'role': 'user',\n",
    "                'content': formatted_prompt\n",
    "            }]\n",
    "        )\n",
    "        return response.message.content\n",
    "    except Exception as e:\n",
    "        print(f\"Error using model: {str(e)}\")\n",
    "        return \"[Error]\"\n",
    "\n",
    "final_prompt = template.format(formatted_tweets)\n",
    "\n",
    "# Get AI analysis\n",
    "ai_response = get_ai_analysis(final_prompt)\n",
    "print(\"AI Analysis Result:\")\n",
    "print(ai_response) "
   ],
   "outputs": [
    {
     "name": "stdout",
     "output_type": "stream",
     "text": [
      "AI Analysis Result:\n",
      "<think>\n",
      "Alright, let's tackle this analysis step by step.\n",
      "\n",
      "First, I need to identify the stock symbol from each tweet, which seems straightforward since all tweets mention \"aapl.\" So, the company is Apple Inc., often abbreviated as AAPL. That part was easy enough.\n",
      "\n",
      "Next, for each tweet, I'll separate the factors. The user has categorized them into positive and negative, so that's taken care of already. But looking at the content, most of these tweets are either positive or neutral in nature. \n",
      "\n",
      "For example, tweets like \"rt AT_USER wall st kicks off new year on lower note\" seem to indicate concerns about the company's performance or market environment. Similarly, other tweets mention things like stock actions or activities, which don't sound negative.\n",
      "\n",
      "However, a few tweets stand out more negatively. For instance, one says, \"apple will be the main victim of Microsoft and Google cutthroat smartp ...\" That's clearly a negative point about Apple's strategic moves, especially in tech competition. \n",
      "\n",
      "Another negative tweet is \"$ aapl pre-market : apple downgraded on margin concerns ; stocks to start 2014 ...\" Here, the user is expressing disappointment about margins dropping, which directly affects the stock price.\n",
      "\n",
      "Looking at all 31 tweets, while there are some positive points like stock mentions or updates, the majority of them don't show strong sentiment. Only a few are extremely negative regarding strategic moves and financial performance. \n",
      "\n",
      "Considering the overall impact: most investors would expect Apple to stay profitable during a tough year with big competitors entering the market. The negative tweet about margins is a critical point that could cause concern. However, other tweets might suggest a positive outlook or current developments not impacting expectations significantly.\n",
      "\n",
      "In terms of sentiment summary, while some tweets are neutral, especially those about stock actions or future activities, the negative points on margins and strategic moves make it seem like there's a downward pressure on Apple's performance for the year 2014. \n",
      "\n",
      "I think the overall sentiment is [Negative] because while most tweets don't show strong signs of trouble, specific instances point to concerns about margins and strategic priorities that might impact future stock prices.\n",
      "</think>\n",
      "\n",
      "[Negative]\n"
     ]
    }
   ],
   "execution_count": 4
  },
  {
   "cell_type": "markdown",
   "metadata": {},
   "source": [
    "批量处理&保存"
   ]
  },
  {
   "cell_type": "code",
   "metadata": {
    "ExecuteTime": {
     "end_time": "2025-03-19T13:45:07.929496Z",
     "start_time": "2025-03-19T13:44:37.063312Z"
    }
   },
   "source": [
    "import os\n",
    "import csv\n",
    "from datetime import datetime, timedelta\n",
    "import re\n",
    "\n",
    "\n",
    "def extract_sentiment_and_analysis(ai_response):\n",
    "    # 提取最终情绪\n",
    "    sentiment_matches = re.findall(r'\\[(Positive|Negative|Neutral)\\]', ai_response)\n",
    "    if sentiment_matches:\n",
    "        sentiment = sentiment_matches[-1]\n",
    "    else:\n",
    "        sentiment = \"Unknown\"  # 提供默认值\n",
    "    \n",
    "    # 提取分析内容\n",
    "    analysis_matches = re.findall(r'<think>(.*?)</think>', ai_response, re.DOTALL)\n",
    "    if analysis_matches:\n",
    "        analysis = analysis_matches[0].strip()\n",
    "    else:\n",
    "        analysis = \"No analysis provided\"  # 提供默认值\n",
    "    \n",
    "    return sentiment, analysis\n",
    "\n",
    "\n",
    "def process_date_range(start_date, end_date, symbol):\n",
    "    # 创建结果CSV文件\n",
    "    results_file = f'sentiment_analysis_{symbol}_{start_date.strftime(\"%Y%m%d\")}_{end_date.strftime(\"%Y%m%d\")}.csv'\n",
    "\n",
    "    with open(results_file, 'w', newline='', encoding='utf-8') as csvfile:\n",
    "        writer = csv.writer(csvfile)\n",
    "        writer.writerow(['Date', 'Sentiment', 'Analysis'])\n",
    "\n",
    "        current_date = start_date\n",
    "        while current_date <= end_date:\n",
    "            date_str = current_date.strftime('%Y-%m-%d')\n",
    "            filename = f'tweet/preprocessed/{symbol}/{date_str}'\n",
    "\n",
    "            if os.path.exists(filename):\n",
    "                # 处理文件\n",
    "                tweets_content = process_tweet_file(filename)\n",
    "                formatted_tweets = '\\n'.join(tweets_content)\n",
    "                formatted_content = template.format(formatted_tweets)\n",
    "                ai_analysis = get_ai_analysis(formatted_content)\n",
    "\n",
    "                # 提取情绪和分析\n",
    "                sentiment, analysis = extract_sentiment_and_analysis(\n",
    "                    ai_analysis)\n",
    "\n",
    "                # 写入CSV\n",
    "                writer.writerow([date_str, sentiment, analysis])\n",
    "                print(f\"Finished: {date_str}\")\n",
    "            else:\n",
    "                print(f\"Not exist: {date_str}\")\n",
    "\n",
    "            current_date += timedelta(days=1)\n",
    "\n",
    "\n",
    "# 设置日期范围\n",
    "start_date = datetime(2014, 1, 1)\n",
    "# end_date = datetime(2015, 12, 31)\n",
    "end_date = datetime(2014, 1, 5)\n",
    "symbol = 'AAPL'\n",
    "\n",
    "process_date_range(start_date, end_date, symbol)"
   ],
   "outputs": [
    {
     "name": "stdout",
     "output_type": "stream",
     "text": [
      "Finished: 2014-01-01\n",
      "Finished: 2014-01-02\n",
      "Finished: 2014-01-03\n",
      "Finished: 2014-01-04\n",
      "Finished: 2014-01-05\n"
     ]
    }
   ],
   "execution_count": 7
  },
  {
   "cell_type": "code",
   "execution_count": null,
   "metadata": {},
   "outputs": [],
   "source": []
  }
 ],
 "metadata": {
  "kernelspec": {
   "display_name": "dev-env",
   "language": "python",
   "name": "python3"
  },
  "language_info": {
   "codemirror_mode": {
    "name": "ipython",
    "version": 3
   },
   "file_extension": ".py",
   "mimetype": "text/x-python",
   "name": "python",
   "nbconvert_exporter": "python",
   "pygments_lexer": "ipython3",
   "version": "3.13.1"
  }
 },
 "nbformat": 4,
 "nbformat_minor": 2
}
